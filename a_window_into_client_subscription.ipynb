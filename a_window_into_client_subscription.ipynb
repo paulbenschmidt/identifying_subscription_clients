{
 "cells": [
  {
   "cell_type": "markdown",
   "metadata": {},
   "source": [
    "# Undisclosed Window Washing Company: Data Analysis\n",
    "\n",
    "This notebook was built to identify which clients were most likely to upsell to prescription packages with a window cleaning company in Chicago.\n",
    "\n",
    "The outline for this notebook is as follows:\n",
    "> I. [Loading Data](#section-1) <br /> \n",
    "> II. [Preliminary Analysis](#section-2) <br /> \n",
    "> III. [Modeling](#section-3) <br /> "
   ]
  },
  {
   "cell_type": "markdown",
   "metadata": {},
   "source": [
    "<a id='section-1'></a>\n",
    "## I. Loading Data"
   ]
  },
  {
   "cell_type": "code",
   "execution_count": 10,
   "metadata": {},
   "outputs": [],
   "source": [
    "import numpy as np\n",
    "import pandas as pd\n",
    "\n",
    "import matplotlib.pyplot as plt\n",
    "%matplotlib inline\n",
    "import seaborn as sns\n",
    "\n",
    "import geopandas as gpd\n",
    "from shapely.geometry import Point, Polygon\n",
    "\n",
    "pd.set_option('display.max_columns', None)"
   ]
  },
  {
   "cell_type": "code",
   "execution_count": 11,
   "metadata": {},
   "outputs": [],
   "source": [
    "# Path for datasets\n",
    "path = 'Datasets_09.06.2019/'\n",
    "\n",
    "# Loading data and removing extra rows\n",
    "invoices = pd.read_csv(path+'Invoices Report.csv', \n",
    "                          skiprows=13, \n",
    "                          skipfooter=1, \n",
    "                          engine='python')\n",
    "one_off = pd.read_csv(path+'One off Jobs Report.csv', \n",
    "                          skiprows=11, \n",
    "                          skipfooter=1, \n",
    "                          engine='python')\n",
    "payments = pd.read_csv(path+'Jobber Payments Transaction List.csv', \n",
    "                          skiprows=0, \n",
    "                          skipfooter=1, \n",
    "                          engine='python')\n",
    "properties = pd.read_csv(path+'Client Properties.csv', \n",
    "                          skiprows=0, \n",
    "                          skipfooter=1, \n",
    "                          engine='python')\n",
    "recurring = pd.read_csv(path+'Recurring Jobs Report.csv', \n",
    "                          skiprows=9, \n",
    "                          skipfooter=1, \n",
    "                          engine='python')\n",
    "services = pd.read_csv(path+'Products and Services Report.csv', \n",
    "                          skiprows=0, \n",
    "                          skipfooter=1, \n",
    "                          engine='python')\n",
    "timesheets = pd.read_csv(path+'Timesheets Report.csv', \n",
    "                          skiprows=14, \n",
    "                          skipfooter=1, \n",
    "                          engine='python')\n",
    "transactions = pd.read_csv(path+'Transaction List.csv', \n",
    "                          skiprows=10, \n",
    "                          skipfooter=1, \n",
    "                          engine='python')\n",
    "visits = pd.read_csv(path+'Visits Report.csv', \n",
    "                          skiprows=0, \n",
    "                          skipfooter=1, \n",
    "                          engine='python')"
   ]
  },
  {
   "cell_type": "markdown",
   "metadata": {},
   "source": [
    "Notes on the datasets:\n",
    "1. **invoices**: *detailed account of all invoices*. Relevant features include: client, date, employee assigned to, cost of service, subscription package.\n",
    "2. **one_off**: *record of one-off services*.\n",
    "    1. Try and find what clients converted to recurring services and how you could make this happen more?\n",
    "3. **payments**: *record of client payments*\n",
    "    1. Try and find characteristics of biggest clients\n",
    "4. **properties**: *detailed account of client addresses*\n",
    "    1. **CHECK!** Try and extract the location for geo-location and merge into other datasets (does this dataset have all clients recorded?)\n",
    "5. **recurring**: *record of recurring services*\n",
    "6. **services**: *record of which services brought in the most revenue*\n",
    "    1. **CHECK!** See which one brought in the most revenue and which single service brings provides greatest return\n",
    "7. **timesheets**: *record of how much time employee spends on assignment*\n",
    "    1. **CHECK!** Identify the most efficient workers\n",
    "8. **transactions**: *account of client payments*\n",
    "    1. Identify key customers and overall trend of payments\n",
    "9. **visits**: *most detailed dataset which contains client, location, employee, cleaning type, and cost*"
   ]
  },
  {
   "cell_type": "code",
   "execution_count": 12,
   "metadata": {},
   "outputs": [],
   "source": [
    "def snapshot(data):\n",
    "    '''Creates df with snapshot of original df for cleaning and analysis.'''\n",
    "    preliminary_details = pd.DataFrame()\n",
    "    preliminary_details['Type'] = data.dtypes\n",
    "    preliminary_details['Unique'] = data.nunique()\n",
    "    preliminary_details['NaN'] = data.isnull().sum()\n",
    "    preliminary_details['NaN_%'] = (data.isnull().sum() / len(data)) * 100\n",
    "    return preliminary_details"
   ]
  },
  {
   "cell_type": "markdown",
   "metadata": {},
   "source": [
    "<a id='section-2'></a>\n",
    "## II. Preliminary Analysis"
   ]
  },
  {
   "cell_type": "markdown",
   "metadata": {},
   "source": [
    "### A. Services\n",
    "Identifying:\n",
    "1. which services have brought in greatest revenue collectively \n",
    "2. which individual services bring in greatest revenue."
   ]
  },
  {
   "cell_type": "code",
   "execution_count": 13,
   "metadata": {},
   "outputs": [
    {
     "data": {
      "text/html": [
       "<div>\n",
       "<style scoped>\n",
       "    .dataframe tbody tr th:only-of-type {\n",
       "        vertical-align: middle;\n",
       "    }\n",
       "\n",
       "    .dataframe tbody tr th {\n",
       "        vertical-align: top;\n",
       "    }\n",
       "\n",
       "    .dataframe thead th {\n",
       "        text-align: right;\n",
       "    }\n",
       "</style>\n",
       "<table border=\"1\" class=\"dataframe\">\n",
       "  <thead>\n",
       "    <tr style=\"text-align: right;\">\n",
       "      <th></th>\n",
       "      <th>Type</th>\n",
       "      <th>Unique</th>\n",
       "      <th>NaN</th>\n",
       "      <th>NaN_%</th>\n",
       "    </tr>\n",
       "  </thead>\n",
       "  <tbody>\n",
       "    <tr>\n",
       "      <th>Name</th>\n",
       "      <td>object</td>\n",
       "      <td>84</td>\n",
       "      <td>0</td>\n",
       "      <td>0.0</td>\n",
       "    </tr>\n",
       "    <tr>\n",
       "      <th>Quoted qty</th>\n",
       "      <td>int64</td>\n",
       "      <td>12</td>\n",
       "      <td>0</td>\n",
       "      <td>0.0</td>\n",
       "    </tr>\n",
       "    <tr>\n",
       "      <th>Quoted $</th>\n",
       "      <td>object</td>\n",
       "      <td>38</td>\n",
       "      <td>0</td>\n",
       "      <td>0.0</td>\n",
       "    </tr>\n",
       "    <tr>\n",
       "      <th>Jobs qty</th>\n",
       "      <td>int64</td>\n",
       "      <td>25</td>\n",
       "      <td>0</td>\n",
       "      <td>0.0</td>\n",
       "    </tr>\n",
       "    <tr>\n",
       "      <th>Jobs $</th>\n",
       "      <td>object</td>\n",
       "      <td>52</td>\n",
       "      <td>0</td>\n",
       "      <td>0.0</td>\n",
       "    </tr>\n",
       "    <tr>\n",
       "      <th>Invoiced qty</th>\n",
       "      <td>int64</td>\n",
       "      <td>32</td>\n",
       "      <td>0</td>\n",
       "      <td>0.0</td>\n",
       "    </tr>\n",
       "    <tr>\n",
       "      <th>Invoiced $</th>\n",
       "      <td>object</td>\n",
       "      <td>61</td>\n",
       "      <td>0</td>\n",
       "      <td>0.0</td>\n",
       "    </tr>\n",
       "  </tbody>\n",
       "</table>\n",
       "</div>"
      ],
      "text/plain": [
       "                Type  Unique  NaN  NaN_%\n",
       "Name          object      84    0    0.0\n",
       "Quoted qty     int64      12    0    0.0\n",
       "Quoted $      object      38    0    0.0\n",
       "Jobs qty       int64      25    0    0.0\n",
       "Jobs $        object      52    0    0.0\n",
       "Invoiced qty   int64      32    0    0.0\n",
       "Invoiced $    object      61    0    0.0"
      ]
     },
     "execution_count": 13,
     "metadata": {},
     "output_type": "execute_result"
    }
   ],
   "source": [
    "snapshot(services)"
   ]
  },
  {
   "cell_type": "code",
   "execution_count": 14,
   "metadata": {},
   "outputs": [],
   "source": [
    "services['Invoiced $'] = services['Invoiced $'].str.replace(',','').astype(float)\n",
    "services['Quoted $'] = services['Quoted $'].str.replace(',','').astype(float)\n",
    "services['Jobs $'] = services['Jobs $'].str.replace(',','').astype(float)"
   ]
  },
  {
   "cell_type": "code",
   "execution_count": 15,
   "metadata": {},
   "outputs": [
    {
     "data": {
      "text/html": [
       "<div>\n",
       "<style scoped>\n",
       "    .dataframe tbody tr th:only-of-type {\n",
       "        vertical-align: middle;\n",
       "    }\n",
       "\n",
       "    .dataframe tbody tr th {\n",
       "        vertical-align: top;\n",
       "    }\n",
       "\n",
       "    .dataframe thead th {\n",
       "        text-align: right;\n",
       "    }\n",
       "</style>\n",
       "<table border=\"1\" class=\"dataframe\">\n",
       "  <thead>\n",
       "    <tr style=\"text-align: right;\">\n",
       "      <th></th>\n",
       "      <th>Name</th>\n",
       "      <th>Quoted qty</th>\n",
       "      <th>Quoted $</th>\n",
       "      <th>Jobs qty</th>\n",
       "      <th>Jobs $</th>\n",
       "      <th>Invoiced qty</th>\n",
       "      <th>Invoiced $</th>\n",
       "    </tr>\n",
       "  </thead>\n",
       "  <tbody>\n",
       "    <tr>\n",
       "      <th>0</th>\n",
       "      <td>Anti-graffiti Window Film Installation</td>\n",
       "      <td>62</td>\n",
       "      <td>33583.0</td>\n",
       "      <td>20</td>\n",
       "      <td>16751.50</td>\n",
       "      <td>19</td>\n",
       "      <td>16472.75</td>\n",
       "    </tr>\n",
       "    <tr>\n",
       "      <th>7</th>\n",
       "      <td>CLEAN Subscription</td>\n",
       "      <td>12</td>\n",
       "      <td>313.0</td>\n",
       "      <td>182</td>\n",
       "      <td>6941.50</td>\n",
       "      <td>1553</td>\n",
       "      <td>56766.00</td>\n",
       "    </tr>\n",
       "    <tr>\n",
       "      <th>79</th>\n",
       "      <td>VERY CLEAN Subscription</td>\n",
       "      <td>19</td>\n",
       "      <td>655.0</td>\n",
       "      <td>212</td>\n",
       "      <td>5973.74</td>\n",
       "      <td>3685</td>\n",
       "      <td>91503.22</td>\n",
       "    </tr>\n",
       "    <tr>\n",
       "      <th>55</th>\n",
       "      <td>PLUS Subscription</td>\n",
       "      <td>2</td>\n",
       "      <td>46.0</td>\n",
       "      <td>155</td>\n",
       "      <td>3926.75</td>\n",
       "      <td>1506</td>\n",
       "      <td>29515.29</td>\n",
       "    </tr>\n",
       "    <tr>\n",
       "      <th>13</th>\n",
       "      <td>CUSTOM Subscription</td>\n",
       "      <td>1</td>\n",
       "      <td>148.0</td>\n",
       "      <td>51</td>\n",
       "      <td>3881.00</td>\n",
       "      <td>453</td>\n",
       "      <td>25583.25</td>\n",
       "    </tr>\n",
       "    <tr>\n",
       "      <th>33</th>\n",
       "      <td>Exterior Window Cleaning</td>\n",
       "      <td>14</td>\n",
       "      <td>1703.0</td>\n",
       "      <td>58</td>\n",
       "      <td>3626.50</td>\n",
       "      <td>298</td>\n",
       "      <td>12704.50</td>\n",
       "    </tr>\n",
       "    <tr>\n",
       "      <th>52</th>\n",
       "      <td>On Demand Window Cleaning</td>\n",
       "      <td>2</td>\n",
       "      <td>160.0</td>\n",
       "      <td>12</td>\n",
       "      <td>3585.00</td>\n",
       "      <td>9</td>\n",
       "      <td>3185.00</td>\n",
       "    </tr>\n",
       "    <tr>\n",
       "      <th>5</th>\n",
       "      <td>CLEAN+</td>\n",
       "      <td>3</td>\n",
       "      <td>122.0</td>\n",
       "      <td>83</td>\n",
       "      <td>3288.60</td>\n",
       "      <td>527</td>\n",
       "      <td>18353.20</td>\n",
       "    </tr>\n",
       "    <tr>\n",
       "      <th>78</th>\n",
       "      <td>VERY CLEAN++</td>\n",
       "      <td>1</td>\n",
       "      <td>140.0</td>\n",
       "      <td>65</td>\n",
       "      <td>2899.50</td>\n",
       "      <td>887</td>\n",
       "      <td>27782.50</td>\n",
       "    </tr>\n",
       "    <tr>\n",
       "      <th>47</th>\n",
       "      <td>Interior Window Cleaning</td>\n",
       "      <td>10</td>\n",
       "      <td>698.0</td>\n",
       "      <td>71</td>\n",
       "      <td>2623.64</td>\n",
       "      <td>124</td>\n",
       "      <td>5312.50</td>\n",
       "    </tr>\n",
       "  </tbody>\n",
       "</table>\n",
       "</div>"
      ],
      "text/plain": [
       "                                      Name  Quoted qty  Quoted $  Jobs qty  \\\n",
       "0   Anti-graffiti Window Film Installation          62   33583.0        20   \n",
       "7                       CLEAN Subscription          12     313.0       182   \n",
       "79                 VERY CLEAN Subscription          19     655.0       212   \n",
       "55                       PLUS Subscription           2      46.0       155   \n",
       "13                     CUSTOM Subscription           1     148.0        51   \n",
       "33                Exterior Window Cleaning          14    1703.0        58   \n",
       "52               On Demand Window Cleaning           2     160.0        12   \n",
       "5                                   CLEAN+           3     122.0        83   \n",
       "78                            VERY CLEAN++           1     140.0        65   \n",
       "47                Interior Window Cleaning          10     698.0        71   \n",
       "\n",
       "      Jobs $  Invoiced qty  Invoiced $  \n",
       "0   16751.50            19    16472.75  \n",
       "7    6941.50          1553    56766.00  \n",
       "79   5973.74          3685    91503.22  \n",
       "55   3926.75          1506    29515.29  \n",
       "13   3881.00           453    25583.25  \n",
       "33   3626.50           298    12704.50  \n",
       "52   3585.00             9     3185.00  \n",
       "5    3288.60           527    18353.20  \n",
       "78   2899.50           887    27782.50  \n",
       "47   2623.64           124     5312.50  "
      ]
     },
     "execution_count": 15,
     "metadata": {},
     "output_type": "execute_result"
    }
   ],
   "source": [
    "# Identifying services that yield greatest revenue\n",
    "services.sort_values(by='Jobs $', ascending=False).head(10)"
   ]
  },
  {
   "cell_type": "code",
   "execution_count": 16,
   "metadata": {},
   "outputs": [
    {
     "data": {
      "text/html": [
       "<div>\n",
       "<style scoped>\n",
       "    .dataframe tbody tr th:only-of-type {\n",
       "        vertical-align: middle;\n",
       "    }\n",
       "\n",
       "    .dataframe tbody tr th {\n",
       "        vertical-align: top;\n",
       "    }\n",
       "\n",
       "    .dataframe thead th {\n",
       "        text-align: right;\n",
       "    }\n",
       "</style>\n",
       "<table border=\"1\" class=\"dataframe\">\n",
       "  <thead>\n",
       "    <tr style=\"text-align: right;\">\n",
       "      <th></th>\n",
       "      <th>Name</th>\n",
       "      <th>Quoted qty</th>\n",
       "      <th>Quoted $</th>\n",
       "      <th>Jobs qty</th>\n",
       "      <th>Jobs $</th>\n",
       "      <th>Invoiced qty</th>\n",
       "      <th>Invoiced $</th>\n",
       "    </tr>\n",
       "  </thead>\n",
       "  <tbody>\n",
       "    <tr>\n",
       "      <th>0</th>\n",
       "      <td>Anti-graffiti Window Film Installation</td>\n",
       "      <td>62</td>\n",
       "      <td>33583.0</td>\n",
       "      <td>20</td>\n",
       "      <td>16751.50</td>\n",
       "      <td>19</td>\n",
       "      <td>16472.75</td>\n",
       "    </tr>\n",
       "    <tr>\n",
       "      <th>56</th>\n",
       "      <td>Privacy Window Film</td>\n",
       "      <td>1</td>\n",
       "      <td>4159.0</td>\n",
       "      <td>0</td>\n",
       "      <td>0.00</td>\n",
       "      <td>0</td>\n",
       "      <td>0.00</td>\n",
       "    </tr>\n",
       "    <tr>\n",
       "      <th>33</th>\n",
       "      <td>Exterior Window Cleaning</td>\n",
       "      <td>14</td>\n",
       "      <td>1703.0</td>\n",
       "      <td>58</td>\n",
       "      <td>3626.50</td>\n",
       "      <td>298</td>\n",
       "      <td>12704.50</td>\n",
       "    </tr>\n",
       "    <tr>\n",
       "      <th>30</th>\n",
       "      <td>Exterior/Interior Window Cleaning</td>\n",
       "      <td>1</td>\n",
       "      <td>1500.0</td>\n",
       "      <td>10</td>\n",
       "      <td>2381.00</td>\n",
       "      <td>17</td>\n",
       "      <td>3147.00</td>\n",
       "    </tr>\n",
       "    <tr>\n",
       "      <th>82</th>\n",
       "      <td>Window Film Removal</td>\n",
       "      <td>23</td>\n",
       "      <td>1444.0</td>\n",
       "      <td>13</td>\n",
       "      <td>727.00</td>\n",
       "      <td>21</td>\n",
       "      <td>1103.00</td>\n",
       "    </tr>\n",
       "    <tr>\n",
       "      <th>43</th>\n",
       "      <td>Graffiti Removal</td>\n",
       "      <td>1</td>\n",
       "      <td>1200.0</td>\n",
       "      <td>0</td>\n",
       "      <td>0.00</td>\n",
       "      <td>0</td>\n",
       "      <td>0.00</td>\n",
       "    </tr>\n",
       "    <tr>\n",
       "      <th>65</th>\n",
       "      <td>Security Window Film Installation</td>\n",
       "      <td>5</td>\n",
       "      <td>1146.0</td>\n",
       "      <td>3</td>\n",
       "      <td>441.00</td>\n",
       "      <td>3</td>\n",
       "      <td>441.00</td>\n",
       "    </tr>\n",
       "    <tr>\n",
       "      <th>67</th>\n",
       "      <td>Solar Window Film Installation</td>\n",
       "      <td>5</td>\n",
       "      <td>840.0</td>\n",
       "      <td>12</td>\n",
       "      <td>420.00</td>\n",
       "      <td>6</td>\n",
       "      <td>1107.00</td>\n",
       "    </tr>\n",
       "    <tr>\n",
       "      <th>47</th>\n",
       "      <td>Interior Window Cleaning</td>\n",
       "      <td>10</td>\n",
       "      <td>698.0</td>\n",
       "      <td>71</td>\n",
       "      <td>2623.64</td>\n",
       "      <td>124</td>\n",
       "      <td>5312.50</td>\n",
       "    </tr>\n",
       "    <tr>\n",
       "      <th>79</th>\n",
       "      <td>VERY CLEAN Subscription</td>\n",
       "      <td>19</td>\n",
       "      <td>655.0</td>\n",
       "      <td>212</td>\n",
       "      <td>5973.74</td>\n",
       "      <td>3685</td>\n",
       "      <td>91503.22</td>\n",
       "    </tr>\n",
       "  </tbody>\n",
       "</table>\n",
       "</div>"
      ],
      "text/plain": [
       "                                      Name  Quoted qty  Quoted $  Jobs qty  \\\n",
       "0   Anti-graffiti Window Film Installation          62   33583.0        20   \n",
       "56                     Privacy Window Film           1    4159.0         0   \n",
       "33                Exterior Window Cleaning          14    1703.0        58   \n",
       "30       Exterior/Interior Window Cleaning           1    1500.0        10   \n",
       "82                     Window Film Removal          23    1444.0        13   \n",
       "43                        Graffiti Removal           1    1200.0         0   \n",
       "65       Security Window Film Installation           5    1146.0         3   \n",
       "67          Solar Window Film Installation           5     840.0        12   \n",
       "47                Interior Window Cleaning          10     698.0        71   \n",
       "79                 VERY CLEAN Subscription          19     655.0       212   \n",
       "\n",
       "      Jobs $  Invoiced qty  Invoiced $  \n",
       "0   16751.50            19    16472.75  \n",
       "56      0.00             0        0.00  \n",
       "33   3626.50           298    12704.50  \n",
       "30   2381.00            17     3147.00  \n",
       "82    727.00            21     1103.00  \n",
       "43      0.00             0        0.00  \n",
       "65    441.00             3      441.00  \n",
       "67    420.00             6     1107.00  \n",
       "47   2623.64           124     5312.50  \n",
       "79   5973.74          3685    91503.22  "
      ]
     },
     "execution_count": 16,
     "metadata": {},
     "output_type": "execute_result"
    }
   ],
   "source": [
    "# Identifying services that yield greatest revenue\n",
    "services.sort_values(by='Quoted $', ascending=False).head(10)"
   ]
  },
  {
   "cell_type": "markdown",
   "metadata": {},
   "source": [
    "### B. Timesheets\n",
    "Identifying:\n",
    "1. Efficiency in workers"
   ]
  },
  {
   "cell_type": "code",
   "execution_count": 17,
   "metadata": {},
   "outputs": [],
   "source": [
    "# Removing rows not associated with recorded job (i.e. general, commute, etc.)\n",
    "bool_jobs = ['Job' in record for record in timesheets['Working on']]\n",
    "only_jobs = timesheets[bool_jobs]"
   ]
  },
  {
   "cell_type": "code",
   "execution_count": 18,
   "metadata": {},
   "outputs": [
    {
     "data": {
      "text/html": [
       "<style  type=\"text/css\" >\n",
       "</style><table id=\"T_8cb45fa8_e9fb_11e9_a384_983b8f8b8dbd\" ><thead>    <tr>        <th class=\"col_heading level0 col0\" >days_worked</th>        <th class=\"col_heading level0 col1\" >jobs_completed</th>        <th class=\"col_heading level0 col2\" >jobs_per_day</th>    </tr></thead><tbody>\n",
       "                <tr>\n",
       "                                <td id=\"T_8cb45fa8_e9fb_11e9_a384_983b8f8b8dbdrow0_col0\" class=\"data row0 col0\" >26</td>\n",
       "                        <td id=\"T_8cb45fa8_e9fb_11e9_a384_983b8f8b8dbdrow0_col1\" class=\"data row0 col1\" >208</td>\n",
       "                        <td id=\"T_8cb45fa8_e9fb_11e9_a384_983b8f8b8dbdrow0_col2\" class=\"data row0 col2\" >8</td>\n",
       "            </tr>\n",
       "            <tr>\n",
       "                                <td id=\"T_8cb45fa8_e9fb_11e9_a384_983b8f8b8dbdrow1_col0\" class=\"data row1 col0\" >9</td>\n",
       "                        <td id=\"T_8cb45fa8_e9fb_11e9_a384_983b8f8b8dbdrow1_col1\" class=\"data row1 col1\" >63</td>\n",
       "                        <td id=\"T_8cb45fa8_e9fb_11e9_a384_983b8f8b8dbdrow1_col2\" class=\"data row1 col2\" >7</td>\n",
       "            </tr>\n",
       "            <tr>\n",
       "                                <td id=\"T_8cb45fa8_e9fb_11e9_a384_983b8f8b8dbdrow2_col0\" class=\"data row2 col0\" >234</td>\n",
       "                        <td id=\"T_8cb45fa8_e9fb_11e9_a384_983b8f8b8dbdrow2_col1\" class=\"data row2 col1\" >3072</td>\n",
       "                        <td id=\"T_8cb45fa8_e9fb_11e9_a384_983b8f8b8dbdrow2_col2\" class=\"data row2 col2\" >13.1282</td>\n",
       "            </tr>\n",
       "            <tr>\n",
       "                                <td id=\"T_8cb45fa8_e9fb_11e9_a384_983b8f8b8dbdrow3_col0\" class=\"data row3 col0\" >62</td>\n",
       "                        <td id=\"T_8cb45fa8_e9fb_11e9_a384_983b8f8b8dbdrow3_col1\" class=\"data row3 col1\" >867</td>\n",
       "                        <td id=\"T_8cb45fa8_e9fb_11e9_a384_983b8f8b8dbdrow3_col2\" class=\"data row3 col2\" >13.9839</td>\n",
       "            </tr>\n",
       "            <tr>\n",
       "                                <td id=\"T_8cb45fa8_e9fb_11e9_a384_983b8f8b8dbdrow4_col0\" class=\"data row4 col0\" >46</td>\n",
       "                        <td id=\"T_8cb45fa8_e9fb_11e9_a384_983b8f8b8dbdrow4_col1\" class=\"data row4 col1\" >338</td>\n",
       "                        <td id=\"T_8cb45fa8_e9fb_11e9_a384_983b8f8b8dbdrow4_col2\" class=\"data row4 col2\" >7.34783</td>\n",
       "            </tr>\n",
       "            <tr>\n",
       "                                <td id=\"T_8cb45fa8_e9fb_11e9_a384_983b8f8b8dbdrow5_col0\" class=\"data row5 col0\" >16</td>\n",
       "                        <td id=\"T_8cb45fa8_e9fb_11e9_a384_983b8f8b8dbdrow5_col1\" class=\"data row5 col1\" >93</td>\n",
       "                        <td id=\"T_8cb45fa8_e9fb_11e9_a384_983b8f8b8dbdrow5_col2\" class=\"data row5 col2\" >5.8125</td>\n",
       "            </tr>\n",
       "            <tr>\n",
       "                                <td id=\"T_8cb45fa8_e9fb_11e9_a384_983b8f8b8dbdrow6_col0\" class=\"data row6 col0\" >25</td>\n",
       "                        <td id=\"T_8cb45fa8_e9fb_11e9_a384_983b8f8b8dbdrow6_col1\" class=\"data row6 col1\" >181</td>\n",
       "                        <td id=\"T_8cb45fa8_e9fb_11e9_a384_983b8f8b8dbdrow6_col2\" class=\"data row6 col2\" >7.24</td>\n",
       "            </tr>\n",
       "            <tr>\n",
       "                                <td id=\"T_8cb45fa8_e9fb_11e9_a384_983b8f8b8dbdrow7_col0\" class=\"data row7 col0\" >66</td>\n",
       "                        <td id=\"T_8cb45fa8_e9fb_11e9_a384_983b8f8b8dbdrow7_col1\" class=\"data row7 col1\" >534</td>\n",
       "                        <td id=\"T_8cb45fa8_e9fb_11e9_a384_983b8f8b8dbdrow7_col2\" class=\"data row7 col2\" >8.09091</td>\n",
       "            </tr>\n",
       "            <tr>\n",
       "                                <td id=\"T_8cb45fa8_e9fb_11e9_a384_983b8f8b8dbdrow8_col0\" class=\"data row8 col0\" >46</td>\n",
       "                        <td id=\"T_8cb45fa8_e9fb_11e9_a384_983b8f8b8dbdrow8_col1\" class=\"data row8 col1\" >296</td>\n",
       "                        <td id=\"T_8cb45fa8_e9fb_11e9_a384_983b8f8b8dbdrow8_col2\" class=\"data row8 col2\" >6.43478</td>\n",
       "            </tr>\n",
       "            <tr>\n",
       "                                <td id=\"T_8cb45fa8_e9fb_11e9_a384_983b8f8b8dbdrow9_col0\" class=\"data row9 col0\" >74</td>\n",
       "                        <td id=\"T_8cb45fa8_e9fb_11e9_a384_983b8f8b8dbdrow9_col1\" class=\"data row9 col1\" >818</td>\n",
       "                        <td id=\"T_8cb45fa8_e9fb_11e9_a384_983b8f8b8dbdrow9_col2\" class=\"data row9 col2\" >11.0541</td>\n",
       "            </tr>\n",
       "            <tr>\n",
       "                                <td id=\"T_8cb45fa8_e9fb_11e9_a384_983b8f8b8dbdrow10_col0\" class=\"data row10 col0\" >3</td>\n",
       "                        <td id=\"T_8cb45fa8_e9fb_11e9_a384_983b8f8b8dbdrow10_col1\" class=\"data row10 col1\" >3</td>\n",
       "                        <td id=\"T_8cb45fa8_e9fb_11e9_a384_983b8f8b8dbdrow10_col2\" class=\"data row10 col2\" >1</td>\n",
       "            </tr>\n",
       "            <tr>\n",
       "                                <td id=\"T_8cb45fa8_e9fb_11e9_a384_983b8f8b8dbdrow11_col0\" class=\"data row11 col0\" >1</td>\n",
       "                        <td id=\"T_8cb45fa8_e9fb_11e9_a384_983b8f8b8dbdrow11_col1\" class=\"data row11 col1\" >14</td>\n",
       "                        <td id=\"T_8cb45fa8_e9fb_11e9_a384_983b8f8b8dbdrow11_col2\" class=\"data row11 col2\" >14</td>\n",
       "            </tr>\n",
       "            <tr>\n",
       "                                <td id=\"T_8cb45fa8_e9fb_11e9_a384_983b8f8b8dbdrow12_col0\" class=\"data row12 col0\" >146</td>\n",
       "                        <td id=\"T_8cb45fa8_e9fb_11e9_a384_983b8f8b8dbdrow12_col1\" class=\"data row12 col1\" >1592</td>\n",
       "                        <td id=\"T_8cb45fa8_e9fb_11e9_a384_983b8f8b8dbdrow12_col2\" class=\"data row12 col2\" >10.9041</td>\n",
       "            </tr>\n",
       "            <tr>\n",
       "                                <td id=\"T_8cb45fa8_e9fb_11e9_a384_983b8f8b8dbdrow13_col0\" class=\"data row13 col0\" >11</td>\n",
       "                        <td id=\"T_8cb45fa8_e9fb_11e9_a384_983b8f8b8dbdrow13_col1\" class=\"data row13 col1\" >16</td>\n",
       "                        <td id=\"T_8cb45fa8_e9fb_11e9_a384_983b8f8b8dbdrow13_col2\" class=\"data row13 col2\" >1.45455</td>\n",
       "            </tr>\n",
       "            <tr>\n",
       "                                <td id=\"T_8cb45fa8_e9fb_11e9_a384_983b8f8b8dbdrow14_col0\" class=\"data row14 col0\" >172</td>\n",
       "                        <td id=\"T_8cb45fa8_e9fb_11e9_a384_983b8f8b8dbdrow14_col1\" class=\"data row14 col1\" >1369</td>\n",
       "                        <td id=\"T_8cb45fa8_e9fb_11e9_a384_983b8f8b8dbdrow14_col2\" class=\"data row14 col2\" >7.9593</td>\n",
       "            </tr>\n",
       "            <tr>\n",
       "                                <td id=\"T_8cb45fa8_e9fb_11e9_a384_983b8f8b8dbdrow15_col0\" class=\"data row15 col0\" >32</td>\n",
       "                        <td id=\"T_8cb45fa8_e9fb_11e9_a384_983b8f8b8dbdrow15_col1\" class=\"data row15 col1\" >301</td>\n",
       "                        <td id=\"T_8cb45fa8_e9fb_11e9_a384_983b8f8b8dbdrow15_col2\" class=\"data row15 col2\" >9.40625</td>\n",
       "            </tr>\n",
       "    </tbody></table>"
      ],
      "text/plain": [
       "<pandas.io.formats.style.Styler at 0x11af117c860>"
      ]
     },
     "execution_count": 18,
     "metadata": {},
     "output_type": "execute_result"
    }
   ],
   "source": [
    "# Grouping by date and employee\n",
    "counts_per_day = only_jobs.groupby(['Date', 'Name']).count()\n",
    "\n",
    "# Calculating days worked and daily jobs completed per employee\n",
    "days_worked = counts_per_day.groupby('Name')['Start time'].count()\n",
    "jobs_completed = counts_per_day.groupby('Name')['Working on'].sum()\n",
    "\n",
    "# Initializing DataFrame\n",
    "per_employee = pd.DataFrame({'days_worked': days_worked})\n",
    "per_employee['jobs_completed'] = jobs_completed\n",
    "per_employee['jobs_per_day'] = jobs_completed / days_worked\n",
    "\n",
    "# Previewing (hiding index for anonymity)\n",
    "per_employee.style.hide_index()"
   ]
  },
  {
   "cell_type": "markdown",
   "metadata": {},
   "source": [
    "### C. Properties\n",
    "Using [Geocodio](https://www.geocod.io), we are able to extract latitude and longitude from the created concatenated properties file in the folder. This is appended to the properties dataframe.\n",
    "\n",
    "Identifying:\n",
    "1. Geolocation of client properties"
   ]
  },
  {
   "cell_type": "code",
   "execution_count": 19,
   "metadata": {},
   "outputs": [],
   "source": [
    "geo_loc = pd.read_csv(path+'concat_locations_geocodio.csv', \n",
    "                          skiprows=0, \n",
    "                          skipfooter=0,\n",
    "                          engine='python')"
   ]
  },
  {
   "cell_type": "code",
   "execution_count": 20,
   "metadata": {},
   "outputs": [],
   "source": [
    "properties_geo = pd.concat([properties, geo_loc[['Latitude','Longitude','Accuracy Score']]], axis=1, sort=False)"
   ]
  },
  {
   "cell_type": "code",
   "execution_count": 21,
   "metadata": {},
   "outputs": [],
   "source": [
    "# ['Resolt','Brandnetizen'] in properties_geo\n",
    "foo = [name not in ['Resolt','Brandnetizen','Company Name'] for name in properties_geo.Name]\n",
    "properties_geo = properties_geo[foo]"
   ]
  },
  {
   "cell_type": "code",
   "execution_count": 22,
   "metadata": {},
   "outputs": [],
   "source": [
    "# Loading shapefile of Chicago\n",
    "file = 'geo_export_9b5fc045-421f-4420-855e-1ce5074ac72b.shp'\n",
    "chicago_map = gpd.read_file(file)"
   ]
  },
  {
   "cell_type": "code",
   "execution_count": 23,
   "metadata": {},
   "outputs": [],
   "source": [
    "# Creating GeoPanda specific feature with geo-data\n",
    "geometry = [Point(xy) \n",
    "            for xy \n",
    "            in zip(properties_geo.Longitude, properties_geo.Latitude)\n",
    "           ]\n",
    "\n",
    "# Specifying GeoPanda CRS (tells Python how coordinates relate to Earth)\n",
    "crs = {'init':'epsg:4326'}\n",
    "\n",
    "# Populating GeoPanda df\n",
    "geo_df = gpd.GeoDataFrame(properties_geo, #specify data\n",
    "                         crs = crs, # specify coordinate reference system\n",
    "                         geometry = geometry #specify geometry list\n",
    "                         ) "
   ]
  },
  {
   "cell_type": "code",
   "execution_count": 24,
   "metadata": {},
   "outputs": [
    {
     "data": {
      "image/png": "[encoded data removed]",
      "text/plain": [
       "<Figure size 1080x1080 with 1 Axes>"
      ]
     },
     "metadata": {
      "needs_background": "light"
     },
     "output_type": "display_data"
    }
   ],
   "source": [
    "# Plotting map\n",
    "fig, ax = plt.subplots(figsize=(15,15))\n",
    "chicago_map.plot(ax=ax, alpha=0.8, color='grey')\n",
    "\n",
    "# Plotting arrests and non-arrests on map\n",
    "geo_df.plot(ax=ax, \n",
    "            markersize=10, \n",
    "            color='blue', \n",
    "            marker='o', \n",
    "            alpha=.5, \n",
    "            label='Property'\n",
    "           )\n",
    "\n",
    "plt.legend(prop={'size':15})\n",
    "plt.title('Client Properties for Urban Street')\n",
    "plt.show()"
   ]
  },
  {
   "cell_type": "markdown",
   "metadata": {},
   "source": [
    "### 4. Invoices\n",
    "\n",
    "Identifying:\n",
    "1. Greatest revenue sources"
   ]
  },
  {
   "cell_type": "code",
   "execution_count": 25,
   "metadata": {},
   "outputs": [],
   "source": [
    "invoices['Total $'] = invoices['Total $'].replace('[\\$,]', '', regex=True).astype(float)\n",
    "invoices['Balance $'] = invoices['Balance $'].replace('[\\$,]', '', regex=True).astype(float)"
   ]
  },
  {
   "cell_type": "code",
   "execution_count": 26,
   "metadata": {},
   "outputs": [
    {
     "data": {
      "text/html": [
       "<div>\n",
       "<style scoped>\n",
       "    .dataframe tbody tr th:only-of-type {\n",
       "        vertical-align: middle;\n",
       "    }\n",
       "\n",
       "    .dataframe tbody tr th {\n",
       "        vertical-align: top;\n",
       "    }\n",
       "\n",
       "    .dataframe thead th {\n",
       "        text-align: right;\n",
       "    }\n",
       "</style>\n",
       "<table border=\"1\" class=\"dataframe\">\n",
       "  <thead>\n",
       "    <tr style=\"text-align: right;\">\n",
       "      <th></th>\n",
       "      <th>mean</th>\n",
       "      <th>count</th>\n",
       "      <th>return</th>\n",
       "    </tr>\n",
       "    <tr>\n",
       "      <th>Subscription Package</th>\n",
       "      <th></th>\n",
       "      <th></th>\n",
       "      <th></th>\n",
       "    </tr>\n",
       "  </thead>\n",
       "  <tbody>\n",
       "    <tr>\n",
       "      <th>- Select -</th>\n",
       "      <td>105.647173</td>\n",
       "      <td>711</td>\n",
       "      <td>0.148590</td>\n",
       "    </tr>\n",
       "    <tr>\n",
       "      <th>CLEAN</th>\n",
       "      <td>39.230545</td>\n",
       "      <td>1339</td>\n",
       "      <td>0.029298</td>\n",
       "    </tr>\n",
       "    <tr>\n",
       "      <th>CLEAN +</th>\n",
       "      <td>48.641197</td>\n",
       "      <td>568</td>\n",
       "      <td>0.085636</td>\n",
       "    </tr>\n",
       "    <tr>\n",
       "      <th>QUARTERLY CLEAN</th>\n",
       "      <td>46.000000</td>\n",
       "      <td>8</td>\n",
       "      <td>5.750000</td>\n",
       "    </tr>\n",
       "    <tr>\n",
       "      <th>QUARTERLY CLEAN +</th>\n",
       "      <td>83.846154</td>\n",
       "      <td>26</td>\n",
       "      <td>3.224852</td>\n",
       "    </tr>\n",
       "    <tr>\n",
       "      <th>SUPER CLEAN</th>\n",
       "      <td>32.723144</td>\n",
       "      <td>916</td>\n",
       "      <td>0.035724</td>\n",
       "    </tr>\n",
       "    <tr>\n",
       "      <th>SUPER CLEAN +</th>\n",
       "      <td>38.191940</td>\n",
       "      <td>1557</td>\n",
       "      <td>0.024529</td>\n",
       "    </tr>\n",
       "    <tr>\n",
       "      <th>SUPER CLEAN ++</th>\n",
       "      <td>36.862067</td>\n",
       "      <td>179</td>\n",
       "      <td>0.205933</td>\n",
       "    </tr>\n",
       "    <tr>\n",
       "      <th>SUPER CLEAN ++++</th>\n",
       "      <td>59.192599</td>\n",
       "      <td>685</td>\n",
       "      <td>0.086413</td>\n",
       "    </tr>\n",
       "    <tr>\n",
       "      <th>VERY CLEAN</th>\n",
       "      <td>29.883189</td>\n",
       "      <td>1571</td>\n",
       "      <td>0.019022</td>\n",
       "    </tr>\n",
       "    <tr>\n",
       "      <th>VERY CLEAN +</th>\n",
       "      <td>45.687348</td>\n",
       "      <td>1678</td>\n",
       "      <td>0.027227</td>\n",
       "    </tr>\n",
       "    <tr>\n",
       "      <th>VERY CLEAN ++</th>\n",
       "      <td>48.789133</td>\n",
       "      <td>888</td>\n",
       "      <td>0.054943</td>\n",
       "    </tr>\n",
       "  </tbody>\n",
       "</table>\n",
       "</div>"
      ],
      "text/plain": [
       "                            mean  count    return\n",
       "Subscription Package                             \n",
       "- Select -            105.647173    711  0.148590\n",
       "CLEAN                  39.230545   1339  0.029298\n",
       "CLEAN +                48.641197    568  0.085636\n",
       "QUARTERLY CLEAN        46.000000      8  5.750000\n",
       "QUARTERLY CLEAN +      83.846154     26  3.224852\n",
       "SUPER CLEAN            32.723144    916  0.035724\n",
       "SUPER CLEAN +          38.191940   1557  0.024529\n",
       "SUPER CLEAN ++         36.862067    179  0.205933\n",
       "SUPER CLEAN ++++       59.192599    685  0.086413\n",
       "VERY CLEAN             29.883189   1571  0.019022\n",
       "VERY CLEAN +           45.687348   1678  0.027227\n",
       "VERY CLEAN ++          48.789133    888  0.054943"
      ]
     },
     "execution_count": 26,
     "metadata": {},
     "output_type": "execute_result"
    }
   ],
   "source": [
    "foo = invoices.groupby('Subscription Package')['Total $'].agg(['mean','count'])\n",
    "foo['return'] = foo['mean'] / foo['count']\n",
    "foo"
   ]
  },
  {
   "cell_type": "markdown",
   "metadata": {},
   "source": [
    "### 5. Payments\n",
    "Identifying:\n",
    "1. Highest revenue-generating clients"
   ]
  },
  {
   "cell_type": "code",
   "execution_count": 27,
   "metadata": {},
   "outputs": [],
   "source": [
    "payments['Total $'] = payments['Total $'].str.replace(',','').astype(float)"
   ]
  },
  {
   "cell_type": "code",
   "execution_count": 28,
   "metadata": {},
   "outputs": [
    {
     "data": {
      "text/html": [
       "<style  type=\"text/css\" >\n",
       "</style><table id=\"T_8d821864_e9fb_11e9_95a2_983b8f8b8dbd\" ><thead>    <tr>        <th class=\"col_heading level0 col0\" >Total $</th>        <th class=\"col_heading level0 col1\" >Fee $</th>        <th class=\"col_heading level0 col2\" >Card ending #</th>        <th class=\"col_heading level0 col3\" >Invoice #</th>        <th class=\"col_heading level0 col4\" >Quote #</th>    </tr></thead><tbody>\n",
       "                <tr>\n",
       "                                <td id=\"T_8d821864_e9fb_11e9_95a2_983b8f8b8dbdrow0_col0\" class=\"data row0 col0\" >-9356</td>\n",
       "                        <td id=\"T_8d821864_e9fb_11e9_95a2_983b8f8b8dbdrow0_col1\" class=\"data row0 col1\" >272.53</td>\n",
       "                        <td id=\"T_8d821864_e9fb_11e9_95a2_983b8f8b8dbdrow0_col2\" class=\"data row0 col2\" >20440</td>\n",
       "                        <td id=\"T_8d821864_e9fb_11e9_95a2_983b8f8b8dbdrow0_col3\" class=\"data row0 col3\" >38328</td>\n",
       "                        <td id=\"T_8d821864_e9fb_11e9_95a2_983b8f8b8dbdrow0_col4\" class=\"data row0 col4\" >0</td>\n",
       "            </tr>\n",
       "            <tr>\n",
       "                                <td id=\"T_8d821864_e9fb_11e9_95a2_983b8f8b8dbdrow1_col0\" class=\"data row1 col0\" >-4310</td>\n",
       "                        <td id=\"T_8d821864_e9fb_11e9_95a2_983b8f8b8dbdrow1_col1\" class=\"data row1 col1\" >133.09</td>\n",
       "                        <td id=\"T_8d821864_e9fb_11e9_95a2_983b8f8b8dbdrow1_col2\" class=\"data row1 col2\" >73548</td>\n",
       "                        <td id=\"T_8d821864_e9fb_11e9_95a2_983b8f8b8dbdrow1_col3\" class=\"data row1 col3\" >144373</td>\n",
       "                        <td id=\"T_8d821864_e9fb_11e9_95a2_983b8f8b8dbdrow1_col4\" class=\"data row1 col4\" >0</td>\n",
       "            </tr>\n",
       "            <tr>\n",
       "                                <td id=\"T_8d821864_e9fb_11e9_95a2_983b8f8b8dbdrow2_col0\" class=\"data row2 col0\" >-3246</td>\n",
       "                        <td id=\"T_8d821864_e9fb_11e9_95a2_983b8f8b8dbdrow2_col1\" class=\"data row2 col1\" >100.76</td>\n",
       "                        <td id=\"T_8d821864_e9fb_11e9_95a2_983b8f8b8dbdrow2_col2\" class=\"data row2 col2\" >77413</td>\n",
       "                        <td id=\"T_8d821864_e9fb_11e9_95a2_983b8f8b8dbdrow2_col3\" class=\"data row2 col3\" >98989</td>\n",
       "                        <td id=\"T_8d821864_e9fb_11e9_95a2_983b8f8b8dbdrow2_col4\" class=\"data row2 col4\" >0</td>\n",
       "            </tr>\n",
       "            <tr>\n",
       "                                <td id=\"T_8d821864_e9fb_11e9_95a2_983b8f8b8dbdrow3_col0\" class=\"data row3 col0\" >-3080</td>\n",
       "                        <td id=\"T_8d821864_e9fb_11e9_95a2_983b8f8b8dbdrow3_col1\" class=\"data row3 col1\" >93.52</td>\n",
       "                        <td id=\"T_8d821864_e9fb_11e9_95a2_983b8f8b8dbdrow3_col2\" class=\"data row3 col2\" >12768</td>\n",
       "                        <td id=\"T_8d821864_e9fb_11e9_95a2_983b8f8b8dbdrow3_col3\" class=\"data row3 col3\" >56666</td>\n",
       "                        <td id=\"T_8d821864_e9fb_11e9_95a2_983b8f8b8dbdrow3_col4\" class=\"data row3 col4\" >0</td>\n",
       "            </tr>\n",
       "            <tr>\n",
       "                                <td id=\"T_8d821864_e9fb_11e9_95a2_983b8f8b8dbdrow4_col0\" class=\"data row4 col0\" >-3036</td>\n",
       "                        <td id=\"T_8d821864_e9fb_11e9_95a2_983b8f8b8dbdrow4_col1\" class=\"data row4 col1\" >97</td>\n",
       "                        <td id=\"T_8d821864_e9fb_11e9_95a2_983b8f8b8dbdrow4_col2\" class=\"data row4 col2\" >140580</td>\n",
       "                        <td id=\"T_8d821864_e9fb_11e9_95a2_983b8f8b8dbdrow4_col3\" class=\"data row4 col3\" >171108</td>\n",
       "                        <td id=\"T_8d821864_e9fb_11e9_95a2_983b8f8b8dbdrow4_col4\" class=\"data row4 col4\" >0</td>\n",
       "            </tr>\n",
       "            <tr>\n",
       "                                <td id=\"T_8d821864_e9fb_11e9_95a2_983b8f8b8dbdrow5_col0\" class=\"data row5 col0\" >-3020</td>\n",
       "                        <td id=\"T_8d821864_e9fb_11e9_95a2_983b8f8b8dbdrow5_col1\" class=\"data row5 col1\" >91.78</td>\n",
       "                        <td id=\"T_8d821864_e9fb_11e9_95a2_983b8f8b8dbdrow5_col2\" class=\"data row5 col2\" >22946</td>\n",
       "                        <td id=\"T_8d821864_e9fb_11e9_95a2_983b8f8b8dbdrow5_col3\" class=\"data row5 col3\" >78013</td>\n",
       "                        <td id=\"T_8d821864_e9fb_11e9_95a2_983b8f8b8dbdrow5_col4\" class=\"data row5 col4\" >0</td>\n",
       "            </tr>\n",
       "            <tr>\n",
       "                                <td id=\"T_8d821864_e9fb_11e9_95a2_983b8f8b8dbdrow6_col0\" class=\"data row6 col0\" >-2560</td>\n",
       "                        <td id=\"T_8d821864_e9fb_11e9_95a2_983b8f8b8dbdrow6_col1\" class=\"data row6 col1\" >81.74</td>\n",
       "                        <td id=\"T_8d821864_e9fb_11e9_95a2_983b8f8b8dbdrow6_col2\" class=\"data row6 col2\" >92175</td>\n",
       "                        <td id=\"T_8d821864_e9fb_11e9_95a2_983b8f8b8dbdrow6_col3\" class=\"data row6 col3\" >132620</td>\n",
       "                        <td id=\"T_8d821864_e9fb_11e9_95a2_983b8f8b8dbdrow6_col4\" class=\"data row6 col4\" >0</td>\n",
       "            </tr>\n",
       "            <tr>\n",
       "                                <td id=\"T_8d821864_e9fb_11e9_95a2_983b8f8b8dbdrow7_col0\" class=\"data row7 col0\" >-2423</td>\n",
       "                        <td id=\"T_8d821864_e9fb_11e9_95a2_983b8f8b8dbdrow7_col1\" class=\"data row7 col1\" >78.73</td>\n",
       "                        <td id=\"T_8d821864_e9fb_11e9_95a2_983b8f8b8dbdrow7_col2\" class=\"data row7 col2\" >28028</td>\n",
       "                        <td id=\"T_8d821864_e9fb_11e9_95a2_983b8f8b8dbdrow7_col3\" class=\"data row7 col3\" >170978</td>\n",
       "                        <td id=\"T_8d821864_e9fb_11e9_95a2_983b8f8b8dbdrow7_col4\" class=\"data row7 col4\" >0</td>\n",
       "            </tr>\n",
       "            <tr>\n",
       "                                <td id=\"T_8d821864_e9fb_11e9_95a2_983b8f8b8dbdrow8_col0\" class=\"data row8 col0\" >-2340</td>\n",
       "                        <td id=\"T_8d821864_e9fb_11e9_95a2_983b8f8b8dbdrow8_col1\" class=\"data row8 col1\" >77.59</td>\n",
       "                        <td id=\"T_8d821864_e9fb_11e9_95a2_983b8f8b8dbdrow8_col2\" class=\"data row8 col2\" >111744</td>\n",
       "                        <td id=\"T_8d821864_e9fb_11e9_95a2_983b8f8b8dbdrow8_col3\" class=\"data row8 col3\" >161655</td>\n",
       "                        <td id=\"T_8d821864_e9fb_11e9_95a2_983b8f8b8dbdrow8_col4\" class=\"data row8 col4\" >0</td>\n",
       "            </tr>\n",
       "            <tr>\n",
       "                                <td id=\"T_8d821864_e9fb_11e9_95a2_983b8f8b8dbdrow9_col0\" class=\"data row9 col0\" >-2189.6</td>\n",
       "                        <td id=\"T_8d821864_e9fb_11e9_95a2_983b8f8b8dbdrow9_col1\" class=\"data row9 col1\" >73.64</td>\n",
       "                        <td id=\"T_8d821864_e9fb_11e9_95a2_983b8f8b8dbdrow9_col2\" class=\"data row9 col2\" >29274</td>\n",
       "                        <td id=\"T_8d821864_e9fb_11e9_95a2_983b8f8b8dbdrow9_col3\" class=\"data row9 col3\" >186567</td>\n",
       "                        <td id=\"T_8d821864_e9fb_11e9_95a2_983b8f8b8dbdrow9_col4\" class=\"data row9 col4\" >0</td>\n",
       "            </tr>\n",
       "    </tbody></table>"
      ],
      "text/plain": [
       "<pandas.io.formats.style.Styler at 0x11af1367f98>"
      ]
     },
     "execution_count": 28,
     "metadata": {},
     "output_type": "execute_result"
    }
   ],
   "source": [
    "# Identifying biggest clients\n",
    "clients = payments.groupby('Client name').sum()\n",
    "\n",
    "# Previewing (Hiding index for anonymity)\n",
    "clients.sort_values(by='Total $').head(10).style.hide_index()"
   ]
  },
  {
   "cell_type": "markdown",
   "metadata": {},
   "source": [
    "### 5. Visits\n",
    "\n",
    "Identifying:\n",
    "1. How many clients upgraded to subscription?\n",
    "2. How many clients have yet to upgrade to subscription?"
   ]
  },
  {
   "cell_type": "code",
   "execution_count": 139,
   "metadata": {},
   "outputs": [],
   "source": [
    "# Separating visits into subscription or non-subscription\n",
    "subscription_visits = visits[visits['Line items'].str.contains('Subscription').replace(np.nan, False)]\n",
    "nonsubscription_visits = visits[~visits['Line items'].str.contains('Subscription').replace(np.nan, False)]\n",
    "\n",
    "# Grouping subscription visits by client (some clients have same name but different addresses)\n",
    "subscription_clients = subscription_visits.groupby(['Client name','Address'])\\\n",
    "    .sum().sort_values(by='Visit based $', ascending=False)\n",
    "\n",
    "# Grouping non-subscription visits by client\n",
    "nonsubscription_clients = nonsubscription_visits.groupby(['Client name','Address'])\\\n",
    "    .sum().sort_values(by='Visit based $', ascending=False)\n",
    "# Removing non-subscription clients who never made a payments\n",
    "nonsubscription_clients = nonsubscription_clients[nonsubscription_clients['Visit based $'] > 0]"
   ]
  },
  {
   "cell_type": "code",
   "execution_count": 140,
   "metadata": {},
   "outputs": [
    {
     "name": "stdout",
     "output_type": "stream",
     "text": [
      "Using visits records, there exist 715 clients.\n",
      "Using visits records, 491 clients are/were subscription clients.\n",
      "Using visits records, 219 clients never have been subscription clients.\n"
     ]
    }
   ],
   "source": [
    "print('Using visits records, there exist {} clients.'\\\n",
    "      .format(len(visits.groupby(['Client name','Address']))))\n",
    "print('Using visits records, {} clients are/were subscription clients.'\\\n",
    "      .format(subscription_clients.shape[0]))\n",
    "print('Using visits records, {} clients never have been subscription clients.'\\\n",
    "      .format(nonsubscription_clients.shape[0]))"
   ]
  },
  {
   "cell_type": "code",
   "execution_count": 141,
   "metadata": {},
   "outputs": [
    {
     "name": "stdout",
     "output_type": "stream",
     "text": [
      "Out of 219 clients who began without subscription, 55 have converted!\n",
      "Out of 219 clients who began without subscription, 164 have yet to be converted.\n"
     ]
    }
   ],
   "source": [
    "# Purifying nonsub client list by removing upgrades\n",
    "unconverted = []\n",
    "for target in nonsubscription_clients.index:\n",
    "    if target not in subscription_clients.index:\n",
    "        unconverted.append(target)\n",
    "\n",
    "# Creating converted sub client list by recording overlap\n",
    "converted = []\n",
    "for target in nonsubscription_clients.index:\n",
    "    if target in subscription_clients.index:\n",
    "        converted.append(target)\n",
    "\n",
    "print('Out of {} clients who began without subscription, {} have converted!' \\\n",
    "      .format(len(nonsubscription_clients.index), len(converted)))\n",
    "print('Out of {} clients who began without subscription, {} have yet to be converted.' \\\n",
    "      .format(len(nonsubscription_clients.index), len(unconverted)))"
   ]
  },
  {
   "cell_type": "markdown",
   "metadata": {},
   "source": [
    "<a id='section-3'></a>\n",
    "## III. Modeling\n",
    "Are there any identifying factors of clients who have chose to upgrade?"
   ]
  },
  {
   "cell_type": "code",
   "execution_count": 142,
   "metadata": {},
   "outputs": [],
   "source": [
    "# Creating target feature\n",
    "subscribed = []\n",
    "for entry in nonsubscription_clients.index:\n",
    "    if entry in converted:\n",
    "        subscribed.append(True)\n",
    "    else:\n",
    "        subscribed.append(False)\n",
    "        \n",
    "# Creating df and adding target feature\n",
    "model_df = nonsubscription_clients\n",
    "model_df = model_df.merge(to_extract[['City','ZIP code']], \n",
    "                          left_index=True, right_index=True)\n",
    "model_df.rename(columns={'Duration':'sum_duration', 'Visit based $':'sum_spent',\n",
    "                        'City':'city','ZIP code':'zip'},\n",
    "               inplace=True)\n",
    "model_df['converted'] = subscribed"
   ]
  },
  {
   "cell_type": "code",
   "execution_count": null,
   "metadata": {},
   "outputs": [],
   "source": []
  },
  {
   "cell_type": "code",
   "execution_count": null,
   "metadata": {},
   "outputs": [],
   "source": []
  },
  {
   "cell_type": "code",
   "execution_count": null,
   "metadata": {},
   "outputs": [],
   "source": []
  },
  {
   "cell_type": "code",
   "execution_count": null,
   "metadata": {},
   "outputs": [],
   "source": []
  },
  {
   "cell_type": "code",
   "execution_count": null,
   "metadata": {},
   "outputs": [],
   "source": []
  },
  {
   "cell_type": "code",
   "execution_count": null,
   "metadata": {},
   "outputs": [],
   "source": []
  },
  {
   "cell_type": "code",
   "execution_count": null,
   "metadata": {},
   "outputs": [],
   "source": []
  },
  {
   "cell_type": "code",
   "execution_count": null,
   "metadata": {},
   "outputs": [],
   "source": [
    "actual_clients = visits.groupby(['Client name','Address'])\\\n",
    "    .sum().sort_values(by='Visit based $', ascending=False)"
   ]
  },
  {
   "cell_type": "markdown",
   "metadata": {},
   "source": [
    "Next steps: create your modeling dataframe from the visits dataframe that includes all potentially relevant features. Some features that have yet to be added are the target variable (subscription), city, state, zip code, type of organization (restaurant, salon, etc.), most frequent type of non-recurring cleaning, average non-recurring payment amount, first recorded transaction, and average time between transactions.\n",
    "\n",
    "From here, you can build a model that can predict for the target variable given the number of features. The step after this would be to build a recommendation system for which clients are most likely to upgrade to subscription packages."
   ]
  },
  {
   "cell_type": "code",
   "execution_count": null,
   "metadata": {},
   "outputs": [],
   "source": []
  },
  {
   "cell_type": "code",
   "execution_count": null,
   "metadata": {},
   "outputs": [],
   "source": []
  },
  {
   "cell_type": "code",
   "execution_count": null,
   "metadata": {},
   "outputs": [],
   "source": []
  },
  {
   "cell_type": "code",
   "execution_count": null,
   "metadata": {},
   "outputs": [],
   "source": []
  },
  {
   "cell_type": "code",
   "execution_count": null,
   "metadata": {
    "scrolled": true
   },
   "outputs": [],
   "source": [
    "visit_identifier = visits['Client name'] + '_' + visits['Address']\n",
    "prop_identifier = properties['Name'] + '_' + properties['Street 1']\n",
    "\n",
    "actual_properties = properties[prop_identifier.isin(visit_identifier)]"
   ]
  },
  {
   "cell_type": "code",
   "execution_count": null,
   "metadata": {},
   "outputs": [],
   "source": [
    "visit_identifier.nunique()"
   ]
  },
  {
   "cell_type": "code",
   "execution_count": null,
   "metadata": {},
   "outputs": [],
   "source": [
    "prop_identifier.nunique()"
   ]
  },
  {
   "cell_type": "code",
   "execution_count": null,
   "metadata": {},
   "outputs": [],
   "source": [
    "len(actual_properties)"
   ]
  },
  {
   "cell_type": "code",
   "execution_count": null,
   "metadata": {},
   "outputs": [],
   "source": [
    "# Recording all actual clients\n",
    "list_of_clients = visits.groupby('Client name').sum().sort_values(by='Visit based $', ascending=False).index\n",
    "\n",
    "# Removing clients without payments history\n",
    "actual_properties = properties[properties['Name'].isin(list_of_clients)]\n",
    "\n",
    "# Printing differences between all clients and actual clients\n",
    "print('Summary: properties contains {} entries; actual_properties contains {} entries.'\\\n",
    "    .format(len(properties['Name'].isin(list_of_clients)),\n",
    "           sum(properties['Name'].isin(list_of_clients))))"
   ]
  },
  {
   "cell_type": "code",
   "execution_count": null,
   "metadata": {},
   "outputs": [],
   "source": [
    "actual_properties[actual_properties['Name'].duplicated()]"
   ]
  },
  {
   "cell_type": "code",
   "execution_count": null,
   "metadata": {},
   "outputs": [],
   "source": []
  },
  {
   "cell_type": "code",
   "execution_count": null,
   "metadata": {},
   "outputs": [],
   "source": []
  },
  {
   "cell_type": "code",
   "execution_count": null,
   "metadata": {},
   "outputs": [],
   "source": []
  },
  {
   "cell_type": "code",
   "execution_count": null,
   "metadata": {},
   "outputs": [],
   "source": []
  },
  {
   "cell_type": "code",
   "execution_count": null,
   "metadata": {},
   "outputs": [],
   "source": []
  },
  {
   "cell_type": "code",
   "execution_count": null,
   "metadata": {},
   "outputs": [],
   "source": []
  },
  {
   "cell_type": "code",
   "execution_count": null,
   "metadata": {},
   "outputs": [],
   "source": []
  },
  {
   "cell_type": "markdown",
   "metadata": {},
   "source": [
    "**invoices**, **one_off**, **payments**, *properties*, **recurring**, *services*, *timesheets*, **transactions**, **visits**:"
   ]
  },
  {
   "cell_type": "code",
   "execution_count": null,
   "metadata": {},
   "outputs": [],
   "source": []
  }
 ],
 "metadata": {
  "kernelspec": {
   "display_name": "Python 3",
   "language": "python",
   "name": "python3"
  },
  "language_info": {
   "codemirror_mode": {
    "name": "ipython",
    "version": 3
   },
   "file_extension": ".py",
   "mimetype": "text/x-python",
   "name": "python",
   "nbconvert_exporter": "python",
   "pygments_lexer": "ipython3",
   "version": "3.7.3"
  }
 },
 "nbformat": 4,
 "nbformat_minor": 2
}
